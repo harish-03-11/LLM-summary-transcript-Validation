{
  "nbformat": 4,
  "nbformat_minor": 0,
  "metadata": {
    "colab": {
      "provenance": [],
      "authorship_tag": "ABX9TyO7xeA5QwJ2dpbgoj6/bikG",
      "include_colab_link": true
    },
    "kernelspec": {
      "name": "python3",
      "display_name": "Python 3"
    },
    "language_info": {
      "name": "python"
    }
  },
  "cells": [
    {
      "cell_type": "markdown",
      "metadata": {
        "id": "view-in-github",
        "colab_type": "text"
      },
      "source": [
        "<a href=\"https://colab.research.google.com/github/harish-03-11/LLM-summary-transcript-Validation/blob/main/LLM_summary_validation.ipynb\" target=\"_parent\"><img src=\"https://colab.research.google.com/assets/colab-badge.svg\" alt=\"Open In Colab\"/></a>"
      ]
    },
    {
      "cell_type": "code",
      "execution_count": null,
      "metadata": {
        "id": "RMH8GJ2qryiU"
      },
      "outputs": [],
      "source": [
        "# Install the library\n",
        "!pip install sentence-transformers\n",
        "\n",
        "# Import necessary libraries\n",
        "from sentence_transformers import SentenceTransformer, util\n",
        "\n",
        "# Load the pre-trained SBERT model\n",
        "model = SentenceTransformer('all-MiniLM-L6-v2')\n",
        "\n",
        "# Define the transcript and summary\n",
        "transcript = \"\"\"\n",
        "The customer reported frequent internet disconnections over the past two days. The agent identified that the issue is due to ongoing maintenance work in the customer’s area, which will be resolved by tomorrow evening. The customer’s router is working properly, and restarting the router after the maintenance is recommended.\n",
        "\"\"\"\n",
        "\n",
        "summary = \"\"\"\n",
        "The customer reported frequent internet disconnections. The agent diagnosed the issue as a network outage due to maintenance work in the area, which will be resolved by tomorrow. The router was confirmed to be functioning properly.\n",
        "\"\"\"\n",
        "\n",
        "# Generate embeddings for both transcript and summary\n",
        "transcript_embedding = model.encode(transcript, convert_to_tensor=True)\n",
        "summary_embedding = model.encode(summary, convert_to_tensor=True)\n",
        "\n",
        "# Compute the cosine similarity between the transcript and the summary\n",
        "similarity_score = util.pytorch_cos_sim(transcript_embedding, summary_embedding)\n",
        "\n",
        "# Print the similarity score\n",
        "print(f\"Semantic Similarity Score: {similarity_score.item():.4f}\")\n",
        "\n",
        "# Set a threshold and check if the summary is correct\n",
        "threshold = 0.8\n",
        "\n",
        "if similarity_score >= threshold:\n",
        "    print(\"The summary is CORRECT.\")\n",
        "else:\n",
        "    print(\"The summary is INCORRECT.\")\n"
      ]
    }
  ]
}